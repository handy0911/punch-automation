{
 "cells": [
  {
   "cell_type": "code",
   "execution_count": 8,
   "metadata": {},
   "outputs": [],
   "source": [
    "from selenium import webdriver\n",
    "from selenium.webdriver.common.by import By\n",
    "from selenium.webdriver.support.ui import Select\n",
    "from selenium.webdriver import ActionChains\n",
    "from selenium.webdriver import Keys\n",
    "import time\n",
    "from webdriver_manager.chrome import ChromeDriverManager"
   ]
  },
  {
   "cell_type": "code",
   "execution_count": 9,
   "metadata": {},
   "outputs": [
    {
     "name": "stderr",
     "output_type": "stream",
     "text": [
      "C:\\Users\\handy\\AppData\\Local\\Temp\\ipykernel_4412\\2517281564.py:6: DeprecationWarning: executable_path has been deprecated, please pass in a Service object\n",
      "  driver = webdriver.Chrome(ChromeDriverManager().install(),options=option)\n"
     ]
    }
   ],
   "source": [
    "timeout=10\n",
    "url=\"https://auth.mayohr.com/HRM/Account/Login?original_target=https%3A%2F%2Fhrm.mayohr.com%2Ftube&lang=undefined\"\n",
    "\n",
    "option = webdriver.ChromeOptions()\n",
    "option.add_experimental_option(\"detach\", True)\n",
    "driver = webdriver.Chrome(ChromeDriverManager().install(),options=option)\n",
    "driver.implicitly_wait(timeout)\n",
    "driver.get(url)"
   ]
  },
  {
   "cell_type": "code",
   "execution_count": 10,
   "metadata": {},
   "outputs": [
    {
     "name": "stdout",
     "output_type": "stream",
     "text": [
      "[{'date': '2024/1/26', 'type': '上班'}, {'date': '2024/1/26', 'type': '下班'}, {'date': '2024/1/29', 'type': '上班'}, {'date': '2024/1/29', 'type': '下班'}, {'date': '2024/1/30', 'type': '上班'}, {'date': '2024/1/30', 'type': '下班'}, {'date': '2024/1/31', 'type': '上班'}, {'date': '2024/1/31', 'type': '下班'}, {'date': '2024/2/1', 'type': '上班'}, {'date': '2024/2/1', 'type': '下班'}, {'date': '2024/2/2', 'type': '上班'}, {'date': '2024/2/2', 'type': '下班'}, {'date': '2024/2/3', 'type': '上班'}, {'date': '2024/2/3', 'type': '下班'}, {'date': '2024/2/5', 'type': '上班'}, {'date': '2024/2/5', 'type': '下班'}, {'date': '2024/2/6', 'type': '上班'}, {'date': '2024/2/6', 'type': '下班'}, {'date': '2024/2/7', 'type': '上班'}, {'date': '2024/2/7', 'type': '下班'}, {'date': '2024/2/15', 'type': '上班'}, {'date': '2024/2/15', 'type': '下班'}, {'date': '2024/2/16', 'type': '上班'}, {'date': '2024/2/16', 'type': '下班'}, {'date': '2024/2/17', 'type': '上班'}, {'date': '2024/2/17', 'type': '下班'}, {'date': '2024/2/19', 'type': '上班'}, {'date': '2024/2/19', 'type': '下班'}, {'date': '2024/2/20', 'type': '上班'}, {'date': '2024/2/20', 'type': '下班'}, {'date': '2024/2/21', 'type': '上班'}, {'date': '2024/2/21', 'type': '下班'}, {'date': '2024/2/23', 'type': '上班'}, {'date': '2024/2/23', 'type': '下班'}]\n",
      "{'date': '2024/1/26', 'type': '上班'}\n",
      "{'date': '2024/1/26', 'type': '下班'}\n",
      "{'date': '2024/1/29', 'type': '上班'}\n",
      "{'date': '2024/1/29', 'type': '下班'}\n",
      "{'date': '2024/1/30', 'type': '上班'}\n",
      "{'date': '2024/1/30', 'type': '下班'}\n",
      "{'date': '2024/1/31', 'type': '上班'}\n",
      "{'date': '2024/1/31', 'type': '下班'}\n",
      "{'date': '2024/2/1', 'type': '上班'}\n",
      "{'date': '2024/2/1', 'type': '下班'}\n",
      "{'date': '2024/2/2', 'type': '上班'}\n",
      "{'date': '2024/2/2', 'type': '下班'}\n",
      "{'date': '2024/2/3', 'type': '上班'}\n",
      "{'date': '2024/2/3', 'type': '下班'}\n",
      "{'date': '2024/2/5', 'type': '上班'}\n",
      "{'date': '2024/2/5', 'type': '下班'}\n",
      "{'date': '2024/2/6', 'type': '上班'}\n",
      "{'date': '2024/2/6', 'type': '下班'}\n",
      "{'date': '2024/2/7', 'type': '上班'}\n",
      "{'date': '2024/2/7', 'type': '下班'}\n",
      "{'date': '2024/2/15', 'type': '上班'}\n",
      "{'date': '2024/2/15', 'type': '下班'}\n",
      "{'date': '2024/2/16', 'type': '上班'}\n",
      "{'date': '2024/2/16', 'type': '下班'}\n",
      "{'date': '2024/2/17', 'type': '上班'}\n",
      "{'date': '2024/2/17', 'type': '下班'}\n",
      "{'date': '2024/2/19', 'type': '上班'}\n",
      "{'date': '2024/2/19', 'type': '下班'}\n",
      "{'date': '2024/2/20', 'type': '上班'}\n",
      "{'date': '2024/2/20', 'type': '下班'}\n",
      "{'date': '2024/2/21', 'type': '上班'}\n",
      "{'date': '2024/2/21', 'type': '下班'}\n",
      "{'date': '2024/2/23', 'type': '上班'}\n",
      "{'date': '2024/2/23', 'type': '下班'}\n"
     ]
    }
   ],
   "source": [
    "import json\n",
    "\n",
    "with open('punch.json','r',encoding=\"utf-8\") as f:\n",
    "    data = json.load(f)\n",
    "\n",
    "print(data)\n",
    "punchlist = data\n",
    "\n",
    "for punchCurrent in punchlist:\n",
    "    driver.get(\"https://hrm.mayohr.com/tube\")\n",
    "    el = driver.find_element(By.PARTIAL_LINK_TEXT, \"忘打卡申請\")\n",
    "    el.click()\n",
    "    el = driver.find_element(By.XPATH, \"//input[@placeholder='YYYY/MM/DD']\")\n",
    "    ActionChains(driver).move_to_element(el).click().send_keys(10*Keys.BACK_SPACE).send_keys(punchCurrent[\"date\"]).perform()\n",
    "    el = driver.find_element(By.XPATH, \"//span[.='請選擇']\")\n",
    "    if punchCurrent[\"type\"] == \"上班\":\n",
    "        ActionChains(driver).move_to_element(el).click().send_keys(Keys.ENTER).perform()\n",
    "    else:\n",
    "        ActionChains(driver).move_to_element(el).click().send_keys(Keys.DOWN).send_keys(Keys.ENTER).perform()\n",
    "    el = driver.find_element(By.XPATH, \"//span[.='請選擇']\")\n",
    "    ActionChains(driver).move_to_element(el).click().send_keys(Keys.ENTER).perform()\n",
    "    el = driver.find_element(By.XPATH, \"//span[.='確定']\")\n",
    "    ActionChains(driver).move_to_element(el).click().perform()\n",
    "    el = driver.find_elements(By.XPATH, \"//span[.='確定']\")[1]\n",
    "    ActionChains(driver).move_to_element(el).click().perform()\n",
    "    time.sleep(2)\n",
    "    print(punchCurrent)"
   ]
  }
 ],
 "metadata": {
  "kernelspec": {
   "display_name": "Python 3",
   "language": "python",
   "name": "python3"
  },
  "language_info": {
   "codemirror_mode": {
    "name": "ipython",
    "version": 3
   },
   "file_extension": ".py",
   "mimetype": "text/x-python",
   "name": "python",
   "nbconvert_exporter": "python",
   "pygments_lexer": "ipython3",
   "version": "3.9.13"
  },
  "orig_nbformat": 4,
  "vscode": {
   "interpreter": {
    "hash": "c3577c664917d2cce49cf05bfc1d35feb6ddeb937e80e79cc29e786b471e3844"
   }
  }
 },
 "nbformat": 4,
 "nbformat_minor": 2
}
