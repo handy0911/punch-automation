{
 "cells": [
  {
   "cell_type": "code",
   "execution_count": 32,
   "metadata": {},
   "outputs": [],
   "source": [
    "from selenium import webdriver\n",
    "from selenium.webdriver.common.by import By\n",
    "from selenium.webdriver.support.ui import Select\n",
    "from selenium.webdriver import ActionChains\n",
    "from selenium.webdriver import Keys"
   ]
  },
  {
   "cell_type": "code",
   "execution_count": 20,
   "metadata": {},
   "outputs": [],
   "source": [
    "timeout=2\n",
    "url=\"https://auth.mayohr.com/HRM/Account/Login?original_target=https%3A%2F%2Fhrm.mayohr.com%2Ftube&lang=undefined\"\n",
    "\n",
    "option = webdriver.ChromeOptions()\n",
    "option.add_experimental_option(\"detach\", True)\n",
    "driver = webdriver.Chrome(options=option)\n",
    "driver.implicitly_wait(timeout)\n",
    "driver.get(url)"
   ]
  },
  {
   "cell_type": "code",
   "execution_count": 89,
   "metadata": {},
   "outputs": [
    {
     "name": "stdout",
     "output_type": "stream",
     "text": [
      "[{'date': '2022/11/17', 'type': '上班'}, {'date': '2022/11/17', 'type': '下班'}]\n"
     ]
    }
   ],
   "source": [
    "import json\n",
    "\n",
    "with open('punch.json','r',encoding=\"utf-8\") as f:\n",
    "    data = json.load(f)\n",
    "\n",
    "print(data)\n",
    "punchlist = data"
   ]
  },
  {
   "cell_type": "code",
   "execution_count": 90,
   "metadata": {},
   "outputs": [],
   "source": [
    "for punchCurrent in punchlist:\n",
    "    driver.get(\"https://hrm.mayohr.com/tube\")\n",
    "    el = driver.find_element(By.PARTIAL_LINK_TEXT, \"忘打卡申請\")\n",
    "    el.click()\n",
    "    el = driver.find_element(By.XPATH, \"//input[@placeholder='YYYY/MM/DD']\")\n",
    "    ActionChains(driver).move_to_element(el).click().send_keys(10*Keys.BACK_SPACE).send_keys(punchCurrent[\"date\"]).perform()\n",
    "    el = driver.find_element(By.XPATH, \"//span[.='請選擇']\")\n",
    "    if punchCurrent[\"type\"] == \"上班\":\n",
    "        ActionChains(driver).move_to_element(el).click().send_keys(Keys.ENTER).perform()\n",
    "    else:\n",
    "        ActionChains(driver).move_to_element(el).click().send_keys(Keys.DOWN).send_keys(Keys.ENTER).perform()\n",
    "    el = driver.find_element(By.XPATH, \"//span[.='請選擇']\")\n",
    "    ActionChains(driver).move_to_element(el).click().send_keys(Keys.ENTER).perform()\n",
    "    el = driver.find_element(By.XPATH, \"//span[.='確定']\")\n",
    "    ActionChains(driver).move_to_element(el).click().perform()\n",
    "    el = driver.find_elements(By.XPATH, \"//span[.='確定']\")[1]\n",
    "    ActionChains(driver).move_to_element(el).click().perform()"
   ]
  }
 ],
 "metadata": {
  "kernelspec": {
   "display_name": "Python 3.8.3 64-bit ('anaconda3')",
   "language": "python",
   "name": "python3"
  },
  "language_info": {
   "codemirror_mode": {
    "name": "ipython",
    "version": 3
   },
   "file_extension": ".py",
   "mimetype": "text/x-python",
   "name": "python",
   "nbconvert_exporter": "python",
   "pygments_lexer": "ipython3",
   "version": "3.8.3"
  },
  "orig_nbformat": 4,
  "vscode": {
   "interpreter": {
    "hash": "9502607ac120794b982d5ccb3066dfe72152880354e0dfbf31f715d9cfc03cca"
   }
  }
 },
 "nbformat": 4,
 "nbformat_minor": 2
}
